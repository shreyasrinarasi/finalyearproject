{
  "nbformat": 4,
  "nbformat_minor": 0,
  "metadata": {
    "kernelspec": {
      "display_name": "Python 3.6 (tensorflow)",
      "language": "python",
      "name": "tensorflow"
    },
    "language_info": {
      "codemirror_mode": {
        "name": "ipython",
        "version": 3
      },
      "file_extension": ".py",
      "mimetype": "text/x-python",
      "name": "python",
      "nbconvert_exporter": "python",
      "pygments_lexer": "ipython3",
      "version": "3.6.8"
    },
    "colab": {
      "name": "realcode.ipynb",
      "provenance": [],
      "collapsed_sections": [],
      "include_colab_link": true
    },
    "accelerator": "GPU"
  },
  "cells": [
    {
      "cell_type": "markdown",
      "metadata": {
        "id": "view-in-github",
        "colab_type": "text"
      },
      "source": [
        "<a href=\"https://colab.research.google.com/github/shreyasrinarasi/finalyearproject/blob/master/realcodefinal.ipynb\" target=\"_parent\"><img src=\"https://colab.research.google.com/assets/colab-badge.svg\" alt=\"Open In Colab\"/></a>"
      ]
    },
    {
      "cell_type": "code",
      "metadata": {
        "id": "I3ZnYkj_NrML",
        "colab_type": "code",
        "colab": {}
      },
      "source": [
        "import matplotlib.pyplot as plt\n",
        "import tensorflow as tf\n",
        "import numpy as np\n",
        "import pandas as pd\n",
        "import os\n",
        "from sklearn.preprocessing import MinMaxScaler\n",
        "import datetime"
      ],
      "execution_count": 0,
      "outputs": []
    },
    {
      "cell_type": "code",
      "metadata": {
        "id": "VFtijyuYNrMS",
        "colab_type": "code",
        "colab": {}
      },
      "source": [
        "from tensorflow.keras.models import Sequential\n",
        "from tensorflow.keras.layers import Input, Dense, Embedding\n",
        "from tensorflow.keras.optimizers import RMSprop\n",
        "from tensorflow.keras.callbacks import EarlyStopping, ModelCheckpoint, TensorBoard, ReduceLROnPlateau\n",
        "from tensorflow.keras.backend import square, mean"
      ],
      "execution_count": 0,
      "outputs": []
    },
    {
      "cell_type": "code",
      "metadata": {
        "id": "BQP7bG9VOUY8",
        "colab_type": "code",
        "outputId": "88838279-5b0d-4e68-bd78-477e72eac80a",
        "colab": {
          "base_uri": "https://localhost:8080/",
          "height": 124
        }
      },
      "source": [
        "from google.colab import drive\n",
        "drive.mount('/content/drive')"
      ],
      "execution_count": 3,
      "outputs": [
        {
          "output_type": "stream",
          "text": [
            "Go to this URL in a browser: https://accounts.google.com/o/oauth2/auth?client_id=947318989803-6bn6qk8qdgf4n4g3pfee6491hc0brc4i.apps.googleusercontent.com&redirect_uri=urn%3aietf%3awg%3aoauth%3a2.0%3aoob&response_type=code&scope=email%20https%3a%2f%2fwww.googleapis.com%2fauth%2fdocs.test%20https%3a%2f%2fwww.googleapis.com%2fauth%2fdrive%20https%3a%2f%2fwww.googleapis.com%2fauth%2fdrive.photos.readonly%20https%3a%2f%2fwww.googleapis.com%2fauth%2fpeopleapi.readonly\n",
            "\n",
            "Enter your authorization code:\n",
            "··········\n",
            "Mounted at /content/drive\n"
          ],
          "name": "stdout"
        }
      ]
    },
    {
      "cell_type": "code",
      "metadata": {
        "id": "BBJyeBq5NrMY",
        "colab_type": "code",
        "outputId": "67ad4eb9-0842-4da3-836a-7c4caafe7ff2",
        "colab": {
          "base_uri": "https://localhost:8080/",
          "height": 202
        }
      },
      "source": [
        "df = pd.read_csv(\"/content/drive/My Drive/FinalYearProject/finaldata.csv\")\n",
        "df.head()"
      ],
      "execution_count": 4,
      "outputs": [
        {
          "output_type": "execute_result",
          "data": {
            "text/html": [
              "<div>\n",
              "<style scoped>\n",
              "    .dataframe tbody tr th:only-of-type {\n",
              "        vertical-align: middle;\n",
              "    }\n",
              "\n",
              "    .dataframe tbody tr th {\n",
              "        vertical-align: top;\n",
              "    }\n",
              "\n",
              "    .dataframe thead th {\n",
              "        text-align: right;\n",
              "    }\n",
              "</style>\n",
              "<table border=\"1\" class=\"dataframe\">\n",
              "  <thead>\n",
              "    <tr style=\"text-align: right;\">\n",
              "      <th></th>\n",
              "      <th>Voltage</th>\n",
              "      <th>Current</th>\n",
              "      <th>Power</th>\n",
              "      <th>Temperature</th>\n",
              "      <th>year</th>\n",
              "      <th>hour</th>\n",
              "      <th>dayofyear</th>\n",
              "      <th>month</th>\n",
              "      <th>minute</th>\n",
              "    </tr>\n",
              "  </thead>\n",
              "  <tbody>\n",
              "    <tr>\n",
              "      <th>0</th>\n",
              "      <td>227</td>\n",
              "      <td>111</td>\n",
              "      <td>68</td>\n",
              "      <td>21</td>\n",
              "      <td>2019</td>\n",
              "      <td>6</td>\n",
              "      <td>14</td>\n",
              "      <td>1</td>\n",
              "      <td>59</td>\n",
              "    </tr>\n",
              "    <tr>\n",
              "      <th>1</th>\n",
              "      <td>226</td>\n",
              "      <td>146</td>\n",
              "      <td>84</td>\n",
              "      <td>21</td>\n",
              "      <td>2019</td>\n",
              "      <td>7</td>\n",
              "      <td>14</td>\n",
              "      <td>1</td>\n",
              "      <td>4</td>\n",
              "    </tr>\n",
              "    <tr>\n",
              "      <th>2</th>\n",
              "      <td>226</td>\n",
              "      <td>161</td>\n",
              "      <td>105</td>\n",
              "      <td>22</td>\n",
              "      <td>2019</td>\n",
              "      <td>7</td>\n",
              "      <td>14</td>\n",
              "      <td>1</td>\n",
              "      <td>9</td>\n",
              "    </tr>\n",
              "    <tr>\n",
              "      <th>3</th>\n",
              "      <td>225</td>\n",
              "      <td>210</td>\n",
              "      <td>135</td>\n",
              "      <td>22</td>\n",
              "      <td>2019</td>\n",
              "      <td>7</td>\n",
              "      <td>14</td>\n",
              "      <td>1</td>\n",
              "      <td>14</td>\n",
              "    </tr>\n",
              "    <tr>\n",
              "      <th>4</th>\n",
              "      <td>228</td>\n",
              "      <td>256</td>\n",
              "      <td>166</td>\n",
              "      <td>23</td>\n",
              "      <td>2019</td>\n",
              "      <td>7</td>\n",
              "      <td>14</td>\n",
              "      <td>1</td>\n",
              "      <td>19</td>\n",
              "    </tr>\n",
              "  </tbody>\n",
              "</table>\n",
              "</div>"
            ],
            "text/plain": [
              "   Voltage  Current  Power  Temperature  year  hour  dayofyear  month  minute\n",
              "0      227      111     68           21  2019     6         14      1      59\n",
              "1      226      146     84           21  2019     7         14      1       4\n",
              "2      226      161    105           22  2019     7         14      1       9\n",
              "3      225      210    135           22  2019     7         14      1      14\n",
              "4      228      256    166           23  2019     7         14      1      19"
            ]
          },
          "metadata": {
            "tags": []
          },
          "execution_count": 4
        }
      ]
    },
    {
      "cell_type": "code",
      "metadata": {
        "id": "9ocYxCavNrMc",
        "colab_type": "code",
        "outputId": "ef6e8dde-17f8-4b3d-c898-841becc1a88b",
        "colab": {
          "base_uri": "https://localhost:8080/",
          "height": 35
        }
      },
      "source": [
        "df.values.shape"
      ],
      "execution_count": 5,
      "outputs": [
        {
          "output_type": "execute_result",
          "data": {
            "text/plain": [
              "(39992, 9)"
            ]
          },
          "metadata": {
            "tags": []
          },
          "execution_count": 5
        }
      ]
    },
    {
      "cell_type": "code",
      "metadata": {
        "id": "Wq2I4AdxNrMt",
        "colab_type": "code",
        "colab": {}
      },
      "source": [
        "shift_days = 1\n",
        "shift_steps = shift_days * 110 "
      ],
      "execution_count": 0,
      "outputs": []
    },
    {
      "cell_type": "code",
      "metadata": {
        "id": "s5S9Ca_6NrMz",
        "colab_type": "code",
        "colab": {}
      },
      "source": [
        "target_names = ['Power']"
      ],
      "execution_count": 0,
      "outputs": []
    },
    {
      "cell_type": "code",
      "metadata": {
        "id": "svl-V0R6NrM3",
        "colab_type": "code",
        "colab": {}
      },
      "source": [
        "df_targets = df[target_names].shift(-shift_steps)"
      ],
      "execution_count": 0,
      "outputs": []
    },
    {
      "cell_type": "code",
      "metadata": {
        "id": "_XUGtGldNrNI",
        "colab_type": "code",
        "colab": {}
      },
      "source": [
        "x_data = df.values[0:-shift_steps]"
      ],
      "execution_count": 0,
      "outputs": []
    },
    {
      "cell_type": "code",
      "metadata": {
        "id": "qt9nsUfwNrNL",
        "colab_type": "code",
        "outputId": "bee55c50-4e8f-43c7-8674-5a59009dbf7e",
        "colab": {
          "base_uri": "https://localhost:8080/",
          "height": 52
        }
      },
      "source": [
        "print(type(x_data))\n",
        "print(\"Shape:\", x_data.shape)"
      ],
      "execution_count": 10,
      "outputs": [
        {
          "output_type": "stream",
          "text": [
            "<class 'numpy.ndarray'>\n",
            "Shape: (39882, 9)\n"
          ],
          "name": "stdout"
        }
      ]
    },
    {
      "cell_type": "code",
      "metadata": {
        "id": "dtR3ihKzNrNO",
        "colab_type": "code",
        "colab": {}
      },
      "source": [
        "y_data = df_targets.values[:-shift_steps]"
      ],
      "execution_count": 0,
      "outputs": []
    },
    {
      "cell_type": "code",
      "metadata": {
        "id": "PtLzBmsrNrNR",
        "colab_type": "code",
        "outputId": "78acf3e6-79db-4919-af98-5fc3af1d2b53",
        "colab": {
          "base_uri": "https://localhost:8080/",
          "height": 52
        }
      },
      "source": [
        "print(type(y_data))\n",
        "print(\"Shape:\", y_data.shape)"
      ],
      "execution_count": 12,
      "outputs": [
        {
          "output_type": "stream",
          "text": [
            "<class 'numpy.ndarray'>\n",
            "Shape: (39882, 1)\n"
          ],
          "name": "stdout"
        }
      ]
    },
    {
      "cell_type": "code",
      "metadata": {
        "id": "aDLkBQ5cNrNW",
        "colab_type": "code",
        "outputId": "43a225ef-517a-49ce-c59d-5456e5ce76b6",
        "colab": {
          "base_uri": "https://localhost:8080/",
          "height": 35
        }
      },
      "source": [
        "num_data = len(x_data)\n",
        "num_data"
      ],
      "execution_count": 13,
      "outputs": [
        {
          "output_type": "execute_result",
          "data": {
            "text/plain": [
              "39882"
            ]
          },
          "metadata": {
            "tags": []
          },
          "execution_count": 13
        }
      ]
    },
    {
      "cell_type": "code",
      "metadata": {
        "id": "A7P1ji4fNrNa",
        "colab_type": "code",
        "colab": {}
      },
      "source": [
        "train_split = 0.8"
      ],
      "execution_count": 0,
      "outputs": []
    },
    {
      "cell_type": "code",
      "metadata": {
        "id": "kFTPV4wQNrNd",
        "colab_type": "code",
        "outputId": "d8796bb5-a4f6-49bb-b7aa-7dbe9efa60b9",
        "colab": {
          "base_uri": "https://localhost:8080/",
          "height": 35
        }
      },
      "source": [
        "num_train = int(train_split * num_data)\n",
        "num_train"
      ],
      "execution_count": 15,
      "outputs": [
        {
          "output_type": "execute_result",
          "data": {
            "text/plain": [
              "31905"
            ]
          },
          "metadata": {
            "tags": []
          },
          "execution_count": 15
        }
      ]
    },
    {
      "cell_type": "code",
      "metadata": {
        "id": "YfytLGtqNrNf",
        "colab_type": "code",
        "outputId": "287926ef-11fb-4f6a-c769-ca87b0f093bc",
        "colab": {
          "base_uri": "https://localhost:8080/",
          "height": 35
        }
      },
      "source": [
        "num_test = num_data - num_train\n",
        "num_test"
      ],
      "execution_count": 16,
      "outputs": [
        {
          "output_type": "execute_result",
          "data": {
            "text/plain": [
              "7977"
            ]
          },
          "metadata": {
            "tags": []
          },
          "execution_count": 16
        }
      ]
    },
    {
      "cell_type": "code",
      "metadata": {
        "id": "LKfuMSs_NrNi",
        "colab_type": "code",
        "outputId": "0fae59ee-e3dd-46f2-a9ea-0b02089fae0c",
        "colab": {
          "base_uri": "https://localhost:8080/",
          "height": 35
        }
      },
      "source": [
        "x_train = x_data[0:num_train]\n",
        "x_test = x_data[num_train:]\n",
        "len(x_train) + len(x_test)"
      ],
      "execution_count": 17,
      "outputs": [
        {
          "output_type": "execute_result",
          "data": {
            "text/plain": [
              "39882"
            ]
          },
          "metadata": {
            "tags": []
          },
          "execution_count": 17
        }
      ]
    },
    {
      "cell_type": "code",
      "metadata": {
        "id": "cE9MKXeWNrNl",
        "colab_type": "code",
        "outputId": "f48696b4-1acb-49a5-97b9-71bdb6b19f07",
        "colab": {
          "base_uri": "https://localhost:8080/",
          "height": 35
        }
      },
      "source": [
        "y_train = y_data[0:num_train]\n",
        "y_test = y_data[num_train:]\n",
        "len(y_train) + len(y_test)"
      ],
      "execution_count": 18,
      "outputs": [
        {
          "output_type": "execute_result",
          "data": {
            "text/plain": [
              "39882"
            ]
          },
          "metadata": {
            "tags": []
          },
          "execution_count": 18
        }
      ]
    },
    {
      "cell_type": "code",
      "metadata": {
        "id": "sabcX1FPNrNo",
        "colab_type": "code",
        "outputId": "8546b1bd-847e-41e4-dc4a-83163ed88ca2",
        "colab": {
          "base_uri": "https://localhost:8080/",
          "height": 35
        }
      },
      "source": [
        "num_x_signals = x_data.shape[1]\n",
        "num_x_signals"
      ],
      "execution_count": 19,
      "outputs": [
        {
          "output_type": "execute_result",
          "data": {
            "text/plain": [
              "9"
            ]
          },
          "metadata": {
            "tags": []
          },
          "execution_count": 19
        }
      ]
    },
    {
      "cell_type": "code",
      "metadata": {
        "id": "IBSDLBYVNrNr",
        "colab_type": "code",
        "outputId": "b36b7730-e7b3-4595-cdcd-c6e99a12e303",
        "colab": {
          "base_uri": "https://localhost:8080/",
          "height": 35
        }
      },
      "source": [
        "num_y_signals = y_data.shape[1]\n",
        "num_y_signals"
      ],
      "execution_count": 20,
      "outputs": [
        {
          "output_type": "execute_result",
          "data": {
            "text/plain": [
              "1"
            ]
          },
          "metadata": {
            "tags": []
          },
          "execution_count": 20
        }
      ]
    },
    {
      "cell_type": "code",
      "metadata": {
        "id": "G5rt-KuINrNu",
        "colab_type": "code",
        "outputId": "138413aa-5372-496b-f48e-9dcef085857d",
        "colab": {
          "base_uri": "https://localhost:8080/",
          "height": 52
        }
      },
      "source": [
        "print(\"Min:\", np.min(x_train))\n",
        "print(\"Max:\", np.max(x_train))"
      ],
      "execution_count": 21,
      "outputs": [
        {
          "output_type": "stream",
          "text": [
            "Min: 0\n",
            "Max: 2019\n"
          ],
          "name": "stdout"
        }
      ]
    },
    {
      "cell_type": "code",
      "metadata": {
        "id": "sDMFHD-4NrNx",
        "colab_type": "code",
        "colab": {}
      },
      "source": [
        "x_scaler = MinMaxScaler()"
      ],
      "execution_count": 0,
      "outputs": []
    },
    {
      "cell_type": "code",
      "metadata": {
        "id": "ivIecCWtNrNz",
        "colab_type": "code",
        "colab": {}
      },
      "source": [
        "x_train_scaled = x_scaler.fit_transform(x_train)"
      ],
      "execution_count": 0,
      "outputs": []
    },
    {
      "cell_type": "code",
      "metadata": {
        "id": "lL9UgfCBNrN2",
        "colab_type": "code",
        "outputId": "caab6df5-4b03-4a74-9a05-84d3901f7a23",
        "colab": {
          "base_uri": "https://localhost:8080/",
          "height": 52
        }
      },
      "source": [
        "print(\"Min:\", np.min(x_train_scaled))\n",
        "print(\"Max:\", np.max(x_train_scaled))"
      ],
      "execution_count": 24,
      "outputs": [
        {
          "output_type": "stream",
          "text": [
            "Min: 0.0\n",
            "Max: 1.0\n"
          ],
          "name": "stdout"
        }
      ]
    },
    {
      "cell_type": "code",
      "metadata": {
        "id": "X6lyaeQ7NrN5",
        "colab_type": "code",
        "colab": {}
      },
      "source": [
        "x_test_scaled = x_scaler.transform(x_test)"
      ],
      "execution_count": 0,
      "outputs": []
    },
    {
      "cell_type": "code",
      "metadata": {
        "id": "ADKDQwsaNrN8",
        "colab_type": "code",
        "colab": {}
      },
      "source": [
        "y_scaler = MinMaxScaler()\n",
        "y_train_scaled = y_scaler.fit_transform(y_train)\n",
        "y_test_scaled = y_scaler.transform(y_test)"
      ],
      "execution_count": 0,
      "outputs": []
    },
    {
      "cell_type": "code",
      "metadata": {
        "id": "H0fHk2_8NrN_",
        "colab_type": "code",
        "outputId": "6b8a9f90-bdfc-485e-c0c4-b36b5c764c2e",
        "colab": {
          "base_uri": "https://localhost:8080/",
          "height": 52
        }
      },
      "source": [
        "print(x_train_scaled.shape)\n",
        "print(y_train_scaled.shape)"
      ],
      "execution_count": 27,
      "outputs": [
        {
          "output_type": "stream",
          "text": [
            "(31905, 9)\n",
            "(31905, 1)\n"
          ],
          "name": "stdout"
        }
      ]
    },
    {
      "cell_type": "code",
      "metadata": {
        "id": "1CeimlPENrOD",
        "colab_type": "code",
        "colab": {}
      },
      "source": [
        "def batch_generator(batch_size, sequence_length):\n",
        "    \"\"\"\n",
        "    Generator function for creating random batches of training-data.\n",
        "    \"\"\"\n",
        "\n",
        "    # Infinite loop.\n",
        "    while True:\n",
        "        # Allocate a new array for the batch of input-signals.\n",
        "        x_shape = (batch_size, sequence_length, num_x_signals)\n",
        "        x_batch = np.zeros(shape=x_shape, dtype=np.float16)\n",
        "\n",
        "        # Allocate a new array for the batch of output-signals.\n",
        "        y_shape = (batch_size, sequence_length, num_y_signals)\n",
        "        y_batch = np.zeros(shape=y_shape, dtype=np.float16)\n",
        "\n",
        "        # Fill the batch with random sequences of data.\n",
        "        for i in range(batch_size):\n",
        "            # Get a random start-index.\n",
        "            # This points somewhere into the training-data.\n",
        "            idx = np.random.randint(num_train - sequence_length)\n",
        "            \n",
        "            # Copy the sequences of data starting at this index.\n",
        "            x_batch[i] = x_train_scaled[idx:idx+sequence_length]\n",
        "            y_batch[i] = y_train_scaled[idx:idx+sequence_length]\n",
        "        \n",
        "        yield (x_batch, y_batch)"
      ],
      "execution_count": 0,
      "outputs": []
    },
    {
      "cell_type": "code",
      "metadata": {
        "id": "lK_JSxs_NrOG",
        "colab_type": "code",
        "colab": {}
      },
      "source": [
        "batch_size = 32"
      ],
      "execution_count": 0,
      "outputs": []
    },
    {
      "cell_type": "code",
      "metadata": {
        "id": "TR1y2fKNNrOI",
        "colab_type": "code",
        "outputId": "fa5c21c5-871a-4ae8-900c-64fc757ee0cb",
        "colab": {
          "base_uri": "https://localhost:8080/",
          "height": 35
        }
      },
      "source": [
        "sequence_length = 110 * 7 * 8\n",
        "sequence_length"
      ],
      "execution_count": 30,
      "outputs": [
        {
          "output_type": "execute_result",
          "data": {
            "text/plain": [
              "6160"
            ]
          },
          "metadata": {
            "tags": []
          },
          "execution_count": 30
        }
      ]
    },
    {
      "cell_type": "code",
      "metadata": {
        "id": "gN-w3BrYNrOM",
        "colab_type": "code",
        "colab": {}
      },
      "source": [
        "generator = batch_generator(batch_size=batch_size,\n",
        "                            sequence_length=sequence_length)"
      ],
      "execution_count": 0,
      "outputs": []
    },
    {
      "cell_type": "code",
      "metadata": {
        "id": "jUY7ieE5NrOP",
        "colab_type": "code",
        "colab": {}
      },
      "source": [
        "x_batch, y_batch = next(generator)"
      ],
      "execution_count": 0,
      "outputs": []
    },
    {
      "cell_type": "code",
      "metadata": {
        "id": "lDirL8O1NrOT",
        "colab_type": "code",
        "outputId": "7f0d6cd3-6a2a-4aaa-c76b-bc38d547793e",
        "colab": {
          "base_uri": "https://localhost:8080/",
          "height": 52
        }
      },
      "source": [
        "print(x_batch.shape)\n",
        "print(y_batch.shape)"
      ],
      "execution_count": 33,
      "outputs": [
        {
          "output_type": "stream",
          "text": [
            "(32, 6160, 9)\n",
            "(32, 6160, 1)\n"
          ],
          "name": "stdout"
        }
      ]
    },
    {
      "cell_type": "code",
      "metadata": {
        "id": "YQbM0CdaNrOW",
        "colab_type": "code",
        "outputId": "62c0d999-b01c-464f-c254-c4eb907c252d",
        "colab": {
          "base_uri": "https://localhost:8080/",
          "height": 283
        }
      },
      "source": [
        "batch = 0   # First sequence in the batch.\n",
        "signal = 0  # First signal from the 20 input-signals.\n",
        "seq = x_batch[batch, :, signal]\n",
        "plt.plot(seq)"
      ],
      "execution_count": 34,
      "outputs": [
        {
          "output_type": "execute_result",
          "data": {
            "text/plain": [
              "[<matplotlib.lines.Line2D at 0x7f5e1d5cbb70>]"
            ]
          },
          "metadata": {
            "tags": []
          },
          "execution_count": 34
        },
        {
          "output_type": "display_data",
          "data": {
            "image/png": "[encoded data removed]",
            "text/plain": [
              "<Figure size 432x288 with 1 Axes>"
            ]
          },
          "metadata": {
            "tags": [],
            "needs_background": "light"
          }
        }
      ]
    },
    {
      "cell_type": "code",
      "metadata": {
        "id": "C0ifQFd8NrOc",
        "colab_type": "code",
        "outputId": "85d04610-1271-4da0-b542-29567e42cefe",
        "colab": {
          "base_uri": "https://localhost:8080/",
          "height": 283
        }
      },
      "source": [
        "seq = y_batch[batch, :, signal]\n",
        "plt.plot(seq)"
      ],
      "execution_count": 35,
      "outputs": [
        {
          "output_type": "execute_result",
          "data": {
            "text/plain": [
              "[<matplotlib.lines.Line2D at 0x7f5e1d116358>]"
            ]
          },
          "metadata": {
            "tags": []
          },
          "execution_count": 35
        },
        {
          "output_type": "display_data",
          "data": {
            "image/png": "[encoded data removed]",
            "text/plain": [
              "<Figure size 432x288 with 1 Axes>"
            ]
          },
          "metadata": {
            "tags": [],
            "needs_background": "light"
          }
        }
      ]
    },
    {
      "cell_type": "code",
      "metadata": {
        "id": "b99W6k7zNrOi",
        "colab_type": "code",
        "colab": {}
      },
      "source": [
        "validation_data = (np.expand_dims(x_test_scaled, axis=0),\n",
        "                   np.expand_dims(y_test_scaled, axis=0))"
      ],
      "execution_count": 0,
      "outputs": []
    },
    {
      "cell_type": "code",
      "metadata": {
        "id": "zy3qH626NrOp",
        "colab_type": "code",
        "colab": {}
      },
      "source": [
        "model = Sequential()"
      ],
      "execution_count": 0,
      "outputs": []
    },
    {
      "cell_type": "code",
      "metadata": {
        "id": "1bJmsAkBNrOu",
        "colab_type": "code",
        "colab": {}
      },
      "source": [
        "model.add(Dense(units=512,\n",
        "               input_shape=(None, num_x_signals,)))"
      ],
      "execution_count": 0,
      "outputs": []
    },
    {
      "cell_type": "code",
      "metadata": {
        "id": "ouLCNEy6NrOy",
        "colab_type": "code",
        "colab": {}
      },
      "source": [
        "model.add(Dense(num_y_signals, activation='sigmoid'))"
      ],
      "execution_count": 0,
      "outputs": []
    },
    {
      "cell_type": "code",
      "metadata": {
        "id": "LpFasizDNrO2",
        "colab_type": "code",
        "colab": {}
      },
      "source": [
        "if False:\n",
        "    from tensorflow.python.keras.initializers import RandomUniform\n",
        "\n",
        "    # Maybe use lower init-ranges.\n",
        "    init = RandomUniform(minval=-0.05, maxval=0.05)\n",
        "\n",
        "    model.add(Dense(num_y_signals,\n",
        "                    activation='linear',\n",
        "                    kernel_initializer=init))"
      ],
      "execution_count": 0,
      "outputs": []
    },
    {
      "cell_type": "code",
      "metadata": {
        "id": "84gVfjOfNrO6",
        "colab_type": "code",
        "colab": {}
      },
      "source": [
        "warmup_steps = 0"
      ],
      "execution_count": 0,
      "outputs": []
    },
    {
      "cell_type": "code",
      "metadata": {
        "id": "ji_pXeWiNrO_",
        "colab_type": "code",
        "colab": {}
      },
      "source": [
        "def loss_mse_warmup(y_true, y_pred):\n",
        "    \"\"\"\n",
        "    Calculate the Mean Squared Error between y_true and y_pred,\n",
        "    but ignore the beginning \"warmup\" part of the sequences.\n",
        "    \n",
        "    y_true is the desired output.\n",
        "    y_pred is the model's output.\n",
        "    \"\"\"\n",
        "\n",
        "    # The shape of both input tensors are:\n",
        "    # [batch_size, sequence_length, num_y_signals].\n",
        "\n",
        "    # Ignore the \"warmup\" parts of the sequences\n",
        "    # by taking slices of the tensors.\n",
        "    y_true_slice = y_true[:, warmup_steps:, :]\n",
        "    y_pred_slice = y_pred[:, warmup_steps:, :]\n",
        "\n",
        "    # These sliced tensors both have this shape:\n",
        "    # [batch_size, sequence_length - warmup_steps, num_y_signals]\n",
        "\n",
        "    # Calculat the Mean Squared Error and use it as loss.\n",
        "    mse = mean(square(y_true_slice - y_pred_slice))\n",
        "    \n",
        "    return mse"
      ],
      "execution_count": 0,
      "outputs": []
    },
    {
      "cell_type": "code",
      "metadata": {
        "id": "Tkl2v7qwNrPC",
        "colab_type": "code",
        "colab": {}
      },
      "source": [
        "optimizer = RMSprop(lr=1e-3)"
      ],
      "execution_count": 0,
      "outputs": []
    },
    {
      "cell_type": "code",
      "metadata": {
        "id": "8327r-H1NrPF",
        "colab_type": "code",
        "colab": {}
      },
      "source": [
        "model.compile(loss=loss_mse_warmup, optimizer=optimizer)"
      ],
      "execution_count": 0,
      "outputs": []
    },
    {
      "cell_type": "code",
      "metadata": {
        "id": "0oU0QNvJNrPH",
        "colab_type": "code",
        "outputId": "bccde3c5-bbf6-4ddd-98fe-edc0cd16596e",
        "colab": {
          "base_uri": "https://localhost:8080/",
          "height": 225
        }
      },
      "source": [
        "model.summary()"
      ],
      "execution_count": 45,
      "outputs": [
        {
          "output_type": "stream",
          "text": [
            "Model: \"sequential\"\n",
            "_________________________________________________________________\n",
            "Layer (type)                 Output Shape              Param #   \n",
            "=================================================================\n",
            "dense (Dense)                (None, None, 512)         5120      \n",
            "_________________________________________________________________\n",
            "dense_1 (Dense)              (None, None, 1)           513       \n",
            "=================================================================\n",
            "Total params: 5,633\n",
            "Trainable params: 5,633\n",
            "Non-trainable params: 0\n",
            "_________________________________________________________________\n"
          ],
          "name": "stdout"
        }
      ]
    },
    {
      "cell_type": "code",
      "metadata": {
        "id": "3o6FRa5TNrPL",
        "colab_type": "code",
        "colab": {}
      },
      "source": [
        "path_checkpoint = '/content/drive/My Drive/FinalYearProject/checkpoints/newmodel_e2.keras'\n",
        "callback_checkpoint = ModelCheckpoint(filepath=path_checkpoint,\n",
        "                                      monitor='val_loss',\n",
        "                                      verbose=1,\n",
        "                                      save_weights_only=True,\n",
        "                                      save_best_only=True)"
      ],
      "execution_count": 0,
      "outputs": []
    },
    {
      "cell_type": "code",
      "metadata": {
        "id": "T99SodgWNrPM",
        "colab_type": "code",
        "colab": {}
      },
      "source": [
        "callback_early_stopping = EarlyStopping(monitor='val_loss',\n",
        "                                        patience=5, verbose=1)"
      ],
      "execution_count": 0,
      "outputs": []
    },
    {
      "cell_type": "code",
      "metadata": {
        "id": "i1XGXL-BNrPR",
        "colab_type": "code",
        "colab": {}
      },
      "source": [
        "callback_tensorboard = TensorBoard(log_dir='./23_logs/',\n",
        "                                   histogram_freq=0,\n",
        "                                   write_graph=False)"
      ],
      "execution_count": 0,
      "outputs": []
    },
    {
      "cell_type": "code",
      "metadata": {
        "id": "XPxwdJi6j805",
        "colab_type": "code",
        "colab": {}
      },
      "source": [
        "callback_reduce_lr = ReduceLROnPlateau(monitor='val_loss',\n",
        "                                       factor=0.1,\n",
        "                                       min_lr=1e-4,\n",
        "                                       patience=0,\n",
        "                                       verbose=1)"
      ],
      "execution_count": 0,
      "outputs": []
    },
    {
      "cell_type": "code",
      "metadata": {
        "id": "VXIWuS96j9to",
        "colab_type": "code",
        "colab": {}
      },
      "source": [
        "callbacks = [callback_early_stopping,\n",
        "             callback_checkpoint,\n",
        "             callback_tensorboard,\n",
        "             callback_reduce_lr]"
      ],
      "execution_count": 0,
      "outputs": []
    },
    {
      "cell_type": "code",
      "metadata": {
        "id": "7UYtWPcENrPd",
        "colab_type": "code",
        "outputId": "832976e5-0739-4085-e392-a165f1c54ab2",
        "colab": {
          "base_uri": "https://localhost:8080/",
          "height": 173
        }
      },
      "source": [
        "model.fit(x=generator,\n",
        "          epochs=2,\n",
        "          steps_per_epoch=110,\n",
        "          validation_data=validation_data,\n",
        "          callbacks=callbacks)"
      ],
      "execution_count": 63,
      "outputs": [
        {
          "output_type": "stream",
          "text": [
            "Epoch 1/2\n",
            "110/110 [==============================] - ETA: 0s - loss: 0.0262\n",
            "Epoch 00001: val_loss improved from inf to 0.03703, saving model to /content/drive/My Drive/FinalYearProject/checkpoints/newmodel_e2.keras\n",
            "110/110 [==============================] - 4s 34ms/step - loss: 0.0262 - val_loss: 0.0370 - lr: 0.0010\n",
            "Epoch 2/2\n",
            "109/110 [============================>.] - ETA: 0s - loss: 0.0260\n",
            "Epoch 00002: val_loss improved from 0.03703 to 0.03647, saving model to /content/drive/My Drive/FinalYearProject/checkpoints/newmodel_e2.keras\n",
            "110/110 [==============================] - 4s 33ms/step - loss: 0.0261 - val_loss: 0.0365 - lr: 0.0010\n"
          ],
          "name": "stdout"
        },
        {
          "output_type": "execute_result",
          "data": {
            "text/plain": [
              "<tensorflow.python.keras.callbacks.History at 0x7f5e101d2c18>"
            ]
          },
          "metadata": {
            "tags": []
          },
          "execution_count": 63
        }
      ]
    },
    {
      "cell_type": "code",
      "metadata": {
        "id": "ZadhLltbkLpE",
        "colab_type": "code",
        "colab": {}
      },
      "source": [
        "try:\n",
        "    model.load_weights(path_checkpoint)\n",
        "except Exception as error:\n",
        "    print(\"Error trying to load checkpoint.\")\n",
        "    print(error)"
      ],
      "execution_count": 0,
      "outputs": []
    },
    {
      "cell_type": "code",
      "metadata": {
        "id": "oOtnWhO1NrPj",
        "colab_type": "code",
        "outputId": "91607dbe-8c1f-4c3d-cd63-e74df34105ad",
        "colab": {
          "base_uri": "https://localhost:8080/",
          "height": 35
        }
      },
      "source": [
        "result = model.evaluate(x=np.expand_dims(x_test_scaled, axis=0),\n",
        "                        y=np.expand_dims(y_test_scaled, axis=0))"
      ],
      "execution_count": 65,
      "outputs": [
        {
          "output_type": "stream",
          "text": [
            "1/1 [==============================] - 0s 932us/step - loss: 0.0365\n"
          ],
          "name": "stdout"
        }
      ]
    },
    {
      "cell_type": "code",
      "metadata": {
        "id": "EgfOhLrnNrPm",
        "colab_type": "code",
        "outputId": "e7571f5b-6665-43f6-b8ed-593e396c875c",
        "colab": {
          "base_uri": "https://localhost:8080/",
          "height": 35
        }
      },
      "source": [
        "print(\"loss (test-set):\", result)"
      ],
      "execution_count": 66,
      "outputs": [
        {
          "output_type": "stream",
          "text": [
            "loss (test-set): 0.03647405654191971\n"
          ],
          "name": "stdout"
        }
      ]
    },
    {
      "cell_type": "code",
      "metadata": {
        "id": "gwPo6zuNNrPp",
        "colab_type": "code",
        "colab": {}
      },
      "source": [
        "def plot_comparison(start_idx, length=100, train=True):\n",
        "    \"\"\"\n",
        "    Plot the predicted and true output-signals.\n",
        "    \n",
        "    :param start_idx: Start-index for the time-series.\n",
        "    :param length: Sequence-length to process and plot.\n",
        "    :param train: Boolean whether to use training- or test-set.\n",
        "    \"\"\"\n",
        "    \n",
        "    if train:\n",
        "        # Use training-data.\n",
        "        x = x_train_scaled\n",
        "        y_true = y_train\n",
        "    else:\n",
        "        # Use test-data.\n",
        "        x = x_test_scaled\n",
        "        y_true = y_test\n",
        "    \n",
        "    # End-index for the sequences.\n",
        "    end_idx = start_idx + length\n",
        "    \n",
        "    # Select the sequences from the given start-index and\n",
        "    # of the given length.\n",
        "    x = x[start_idx:end_idx]\n",
        "    y_true = y_true[start_idx:end_idx]\n",
        "    \n",
        "    realpo=0\n",
        "    for i in range(start_idx,end_idx):\n",
        "      realpo+=y_true[i]\n",
        "\n",
        "    print(\"Real Power Output:\", realpo)\n",
        "  \n",
        "    # Input-signals for the model.\n",
        "    x = np.expand_dims(x, axis=0)\n",
        "\n",
        "    # Use the model to predict the output-signals.\n",
        "    y_pred = model.predict(x)\n",
        "    \n",
        "\n",
        "    # The output of the model is between 0 and 1.\n",
        "    # Do an inverse map to get it back to the scale\n",
        "    # of the original data-set.\n",
        "    y_pred_rescaled = y_scaler.inverse_transform(y_pred[0])\n",
        "    \n",
        "    poweroutput=0\n",
        "\n",
        "    for i in range (start_idx, end_idx):\n",
        "      poweroutput+=y_pred_rescaled[i]\n",
        "    \n",
        "    print(\"Predicted Power Output:\", poweroutput)\n",
        "\n",
        "    # For each output-signal.\n",
        "    for signal in range(len(target_names)):\n",
        "        # Get the output-signal predicted by the model.\n",
        "        signal_pred = y_pred_rescaled[:, signal]\n",
        "        \n",
        "        # Get the true output-signal from the data-set.\n",
        "        signal_true = y_true[:, signal]\n",
        "\n",
        "        # Make the plotting-canvas bigger.\n",
        "        plt.figure(figsize=(15,5))\n",
        "        \n",
        "        # Plot and compare the two signals.\n",
        "        plt.plot(signal_true, label='true')\n",
        "        plt.plot(signal_pred, label='pred')\n",
        "        \n",
        "        # Plot grey box for warmup-period.\n",
        "        p = plt.axvspan(0, warmup_steps, facecolor='black', alpha=0.15)\n",
        "        \n",
        "        # Plot labels etc.\n",
        "        plt.ylabel(target_names[signal])\n",
        "        plt.legend()\n",
        "        plt.show()"
      ],
      "execution_count": 0,
      "outputs": []
    },
    {
      "cell_type": "code",
      "metadata": {
        "id": "y4EYBcNBNrPr",
        "colab_type": "code",
        "outputId": "2303148e-960d-4e45-9eec-fa8057b094e7",
        "colab": {
          "base_uri": "https://localhost:8080/",
          "height": 355
        }
      },
      "source": [
        "plot_comparison(start_idx=0, length=110, train=True)"
      ],
      "execution_count": 69,
      "outputs": [
        {
          "output_type": "stream",
          "text": [
            "Real Power Output: [72339.]\n",
            "Predicted Power Output: [74610.77]\n"
          ],
          "name": "stdout"
        },
        {
          "output_type": "display_data",
          "data": {
            "image/png": "[encoded data removed]",
            "text/plain": [
              "<Figure size 1080x360 with 1 Axes>"
            ]
          },
          "metadata": {
            "tags": [],
            "needs_background": "light"
          }
        }
      ]
    },
    {
      "cell_type": "code",
      "metadata": {
        "id": "OwGexCenNrPv",
        "colab_type": "code",
        "outputId": "49aa3ec7-33f8-48cc-fa80-956fc8331c4c",
        "colab": {
          "base_uri": "https://localhost:8080/",
          "height": 355
        }
      },
      "source": [
        "plot_comparison(start_idx=0, length=110, train=False)"
      ],
      "execution_count": 70,
      "outputs": [
        {
          "output_type": "stream",
          "text": [
            "Real Power Output: [67951.]\n",
            "Predicted Power Output: [67589.055]\n"
          ],
          "name": "stdout"
        },
        {
          "output_type": "display_data",
          "data": {
            "image/png": "[encoded data removed]",
            "text/plain": [
              "<Figure size 1080x360 with 1 Axes>"
            ]
          },
          "metadata": {
            "tags": [],
            "needs_background": "light"
          }
        }
      ]
    }
  ]
}